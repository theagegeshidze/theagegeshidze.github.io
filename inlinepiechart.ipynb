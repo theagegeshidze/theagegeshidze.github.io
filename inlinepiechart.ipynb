{
  "nbformat": 4,
  "nbformat_minor": 0,
  "metadata": {
    "colab": {
      "provenance": [],
      "authorship_tag": "ABX9TyN4oY06jsts7xc3Z5yaPQQl",
      "include_colab_link": true
    },
    "kernelspec": {
      "name": "python3",
      "display_name": "Python 3"
    },
    "language_info": {
      "name": "python"
    }
  },
  "cells": [
    {
      "cell_type": "markdown",
      "metadata": {
        "id": "view-in-github",
        "colab_type": "text"
      },
      "source": [
        "<a href=\"https://colab.research.google.com/github/theagegeshidze/theagegeshidze.github.io/blob/main/inlinepiechart.ipynb\" target=\"_parent\"><img src=\"https://colab.research.google.com/assets/colab-badge.svg\" alt=\"Open In Colab\"/></a>"
      ]
    },
    {
      "cell_type": "code",
      "execution_count": null,
      "metadata": {
        "id": "y5WPSSZG5nl1"
      },
      "outputs": [],
      "source": [
        "a = [2,4,3,\"fdfd\",[5,6]]"
      ]
    },
    {
      "cell_type": "code",
      "source": [
        "a"
      ],
      "metadata": {
        "colab": {
          "base_uri": "https://localhost:8080/"
        },
        "id": "ytk9QnWo5q7h",
        "outputId": "86783625-30fd-49ad-9c88-8dc2b347dd6e"
      },
      "execution_count": null,
      "outputs": [
        {
          "output_type": "execute_result",
          "data": {
            "text/plain": [
              "[2, 4, 3, 'fdfd', [5, 6]]"
            ]
          },
          "metadata": {},
          "execution_count": 2
        }
      ]
    },
    {
      "cell_type": "code",
      "source": [
        "a[4][0]"
      ],
      "metadata": {
        "id": "xzB405Og5q9s"
      },
      "execution_count": null,
      "outputs": []
    },
    {
      "cell_type": "code",
      "source": [
        "b={'alfa':1,\n",
        "'beta':27, \n",
        "'gamma':[0,1,2],\n",
        "'delta':67.3,\n",
        "'ninety-eight':{\n",
        "    'a': 5, \n",
        "    'b':7}\n",
        "   }"
      ],
      "metadata": {
        "id": "gezouiX55q_0"
      },
      "execution_count": null,
      "outputs": []
    },
    {
      "cell_type": "code",
      "source": [
        "b['ninety-eight']['a']"
      ],
      "metadata": {
        "colab": {
          "base_uri": "https://localhost:8080/"
        },
        "id": "9qTbGtaZ5rB2",
        "outputId": "5ea66b05-7c5e-4a7d-8f42-4ce59f4c8d2c"
      },
      "execution_count": null,
      "outputs": [
        {
          "output_type": "execute_result",
          "data": {
            "text/plain": [
              "5"
            ]
          },
          "metadata": {},
          "execution_count": 5
        }
      ]
    },
    {
      "cell_type": "code",
      "source": [
        "b.keys(),b.values()"
      ],
      "metadata": {
        "colab": {
          "base_uri": "https://localhost:8080/"
        },
        "id": "EgxdkWEv5rDv",
        "outputId": "74541505-a97e-4745-de6b-702388dee327"
      },
      "execution_count": null,
      "outputs": [
        {
          "output_type": "execute_result",
          "data": {
            "text/plain": [
              "(dict_keys(['alfa', 'beta', 'gamma', 'delta', 'ninety-eight']),\n",
              " dict_values([1, 27, [0, 1, 2], 67.3, {'a': 5, 'b': 7}]))"
            ]
          },
          "metadata": {},
          "execution_count": 6
        }
      ]
    },
    {
      "cell_type": "code",
      "source": [
        "import pandas as pd"
      ],
      "metadata": {
        "id": "AIROP7S255a6"
      },
      "execution_count": null,
      "outputs": []
    },
    {
      "cell_type": "code",
      "source": [
        "df = pd.read_csv('electricityprodpiechart.csv')"
      ],
      "metadata": {
        "id": "knjdICFw55hG"
      },
      "execution_count": null,
      "outputs": []
    },
    {
      "cell_type": "code",
      "source": [
        "df"
      ],
      "metadata": {
        "colab": {
          "base_uri": "https://localhost:8080/",
          "height": 331
        },
        "id": "ygDb3knK55jL",
        "outputId": "34b0a05f-c7e2-4c81-d02d-a27abbae5e61"
      },
      "execution_count": null,
      "outputs": [
        {
          "output_type": "execute_result",
          "data": {
            "text/plain": [
              "                                Sources       TWh  Percentage\n",
              "0  Other renewables excluding bioenergy     93.46        0.34\n",
              "1                             Bioenergy    666.34        2.40\n",
              "2                                   Oil    760.15        2.74\n",
              "3                                 Solar   1021.22        3.68\n",
              "4                                  Wind   1848.26        6.65\n",
              "5                               Nuclear   2738.44        9.86\n",
              "6          Electricity from hydro (TWh)   4226.34       15.21\n",
              "7                                 Hydro   6317.60       22.74\n",
              "8                                  Coal  10110.98       36.39"
            ],
            "text/html": [
              "\n",
              "  <div id=\"df-0681a4d5-97b5-45c3-b46e-e530a4c1158f\">\n",
              "    <div class=\"colab-df-container\">\n",
              "      <div>\n",
              "<style scoped>\n",
              "    .dataframe tbody tr th:only-of-type {\n",
              "        vertical-align: middle;\n",
              "    }\n",
              "\n",
              "    .dataframe tbody tr th {\n",
              "        vertical-align: top;\n",
              "    }\n",
              "\n",
              "    .dataframe thead th {\n",
              "        text-align: right;\n",
              "    }\n",
              "</style>\n",
              "<table border=\"1\" class=\"dataframe\">\n",
              "  <thead>\n",
              "    <tr style=\"text-align: right;\">\n",
              "      <th></th>\n",
              "      <th>Sources</th>\n",
              "      <th>TWh</th>\n",
              "      <th>Percentage</th>\n",
              "    </tr>\n",
              "  </thead>\n",
              "  <tbody>\n",
              "    <tr>\n",
              "      <th>0</th>\n",
              "      <td>Other renewables excluding bioenergy</td>\n",
              "      <td>93.46</td>\n",
              "      <td>0.34</td>\n",
              "    </tr>\n",
              "    <tr>\n",
              "      <th>1</th>\n",
              "      <td>Bioenergy</td>\n",
              "      <td>666.34</td>\n",
              "      <td>2.40</td>\n",
              "    </tr>\n",
              "    <tr>\n",
              "      <th>2</th>\n",
              "      <td>Oil</td>\n",
              "      <td>760.15</td>\n",
              "      <td>2.74</td>\n",
              "    </tr>\n",
              "    <tr>\n",
              "      <th>3</th>\n",
              "      <td>Solar</td>\n",
              "      <td>1021.22</td>\n",
              "      <td>3.68</td>\n",
              "    </tr>\n",
              "    <tr>\n",
              "      <th>4</th>\n",
              "      <td>Wind</td>\n",
              "      <td>1848.26</td>\n",
              "      <td>6.65</td>\n",
              "    </tr>\n",
              "    <tr>\n",
              "      <th>5</th>\n",
              "      <td>Nuclear</td>\n",
              "      <td>2738.44</td>\n",
              "      <td>9.86</td>\n",
              "    </tr>\n",
              "    <tr>\n",
              "      <th>6</th>\n",
              "      <td>Electricity from hydro (TWh)</td>\n",
              "      <td>4226.34</td>\n",
              "      <td>15.21</td>\n",
              "    </tr>\n",
              "    <tr>\n",
              "      <th>7</th>\n",
              "      <td>Hydro</td>\n",
              "      <td>6317.60</td>\n",
              "      <td>22.74</td>\n",
              "    </tr>\n",
              "    <tr>\n",
              "      <th>8</th>\n",
              "      <td>Coal</td>\n",
              "      <td>10110.98</td>\n",
              "      <td>36.39</td>\n",
              "    </tr>\n",
              "  </tbody>\n",
              "</table>\n",
              "</div>\n",
              "      <button class=\"colab-df-convert\" onclick=\"convertToInteractive('df-0681a4d5-97b5-45c3-b46e-e530a4c1158f')\"\n",
              "              title=\"Convert this dataframe to an interactive table.\"\n",
              "              style=\"display:none;\">\n",
              "        \n",
              "  <svg xmlns=\"http://www.w3.org/2000/svg\" height=\"24px\"viewBox=\"0 0 24 24\"\n",
              "       width=\"24px\">\n",
              "    <path d=\"M0 0h24v24H0V0z\" fill=\"none\"/>\n",
              "    <path d=\"M18.56 5.44l.94 2.06.94-2.06 2.06-.94-2.06-.94-.94-2.06-.94 2.06-2.06.94zm-11 1L8.5 8.5l.94-2.06 2.06-.94-2.06-.94L8.5 2.5l-.94 2.06-2.06.94zm10 10l.94 2.06.94-2.06 2.06-.94-2.06-.94-.94-2.06-.94 2.06-2.06.94z\"/><path d=\"M17.41 7.96l-1.37-1.37c-.4-.4-.92-.59-1.43-.59-.52 0-1.04.2-1.43.59L10.3 9.45l-7.72 7.72c-.78.78-.78 2.05 0 2.83L4 21.41c.39.39.9.59 1.41.59.51 0 1.02-.2 1.41-.59l7.78-7.78 2.81-2.81c.8-.78.8-2.07 0-2.86zM5.41 20L4 18.59l7.72-7.72 1.47 1.35L5.41 20z\"/>\n",
              "  </svg>\n",
              "      </button>\n",
              "      \n",
              "  <style>\n",
              "    .colab-df-container {\n",
              "      display:flex;\n",
              "      flex-wrap:wrap;\n",
              "      gap: 12px;\n",
              "    }\n",
              "\n",
              "    .colab-df-convert {\n",
              "      background-color: #E8F0FE;\n",
              "      border: none;\n",
              "      border-radius: 50%;\n",
              "      cursor: pointer;\n",
              "      display: none;\n",
              "      fill: #1967D2;\n",
              "      height: 32px;\n",
              "      padding: 0 0 0 0;\n",
              "      width: 32px;\n",
              "    }\n",
              "\n",
              "    .colab-df-convert:hover {\n",
              "      background-color: #E2EBFA;\n",
              "      box-shadow: 0px 1px 2px rgba(60, 64, 67, 0.3), 0px 1px 3px 1px rgba(60, 64, 67, 0.15);\n",
              "      fill: #174EA6;\n",
              "    }\n",
              "\n",
              "    [theme=dark] .colab-df-convert {\n",
              "      background-color: #3B4455;\n",
              "      fill: #D2E3FC;\n",
              "    }\n",
              "\n",
              "    [theme=dark] .colab-df-convert:hover {\n",
              "      background-color: #434B5C;\n",
              "      box-shadow: 0px 1px 3px 1px rgba(0, 0, 0, 0.15);\n",
              "      filter: drop-shadow(0px 1px 2px rgba(0, 0, 0, 0.3));\n",
              "      fill: #FFFFFF;\n",
              "    }\n",
              "  </style>\n",
              "\n",
              "      <script>\n",
              "        const buttonEl =\n",
              "          document.querySelector('#df-0681a4d5-97b5-45c3-b46e-e530a4c1158f button.colab-df-convert');\n",
              "        buttonEl.style.display =\n",
              "          google.colab.kernel.accessAllowed ? 'block' : 'none';\n",
              "\n",
              "        async function convertToInteractive(key) {\n",
              "          const element = document.querySelector('#df-0681a4d5-97b5-45c3-b46e-e530a4c1158f');\n",
              "          const dataTable =\n",
              "            await google.colab.kernel.invokeFunction('convertToInteractive',\n",
              "                                                     [key], {});\n",
              "          if (!dataTable) return;\n",
              "\n",
              "          const docLinkHtml = 'Like what you see? Visit the ' +\n",
              "            '<a target=\"_blank\" href=https://colab.research.google.com/notebooks/data_table.ipynb>data table notebook</a>'\n",
              "            + ' to learn more about interactive tables.';\n",
              "          element.innerHTML = '';\n",
              "          dataTable['output_type'] = 'display_data';\n",
              "          await google.colab.output.renderOutput(dataTable, element);\n",
              "          const docLink = document.createElement('div');\n",
              "          docLink.innerHTML = docLinkHtml;\n",
              "          element.appendChild(docLink);\n",
              "        }\n",
              "      </script>\n",
              "    </div>\n",
              "  </div>\n",
              "  "
            ]
          },
          "metadata": {},
          "execution_count": 9
        }
      ]
    },
    {
      "cell_type": "code",
      "source": [
        "df.T"
      ],
      "metadata": {
        "colab": {
          "base_uri": "https://localhost:8080/",
          "height": 187
        },
        "id": "1z7T-LpC55lX",
        "outputId": "34f2a254-1aab-4624-ef8d-cd55e238e754"
      },
      "execution_count": null,
      "outputs": [
        {
          "output_type": "execute_result",
          "data": {
            "text/plain": [
              "                                               0          1       2        3  \\\n",
              "Sources     Other renewables excluding bioenergy  Bioenergy     Oil    Solar   \n",
              "TWh                                        93.46     666.34  760.15  1021.22   \n",
              "Percentage                                  0.34        2.4    2.74     3.68   \n",
              "\n",
              "                  4        5                             6       7         8  \n",
              "Sources        Wind  Nuclear  Electricity from hydro (TWh)   Hydro      Coal  \n",
              "TWh         1848.26  2738.44                       4226.34  6317.6  10110.98  \n",
              "Percentage     6.65     9.86                         15.21   22.74     36.39  "
            ],
            "text/html": [
              "\n",
              "  <div id=\"df-55033558-c580-4cbf-ad6f-14b62530e0a0\">\n",
              "    <div class=\"colab-df-container\">\n",
              "      <div>\n",
              "<style scoped>\n",
              "    .dataframe tbody tr th:only-of-type {\n",
              "        vertical-align: middle;\n",
              "    }\n",
              "\n",
              "    .dataframe tbody tr th {\n",
              "        vertical-align: top;\n",
              "    }\n",
              "\n",
              "    .dataframe thead th {\n",
              "        text-align: right;\n",
              "    }\n",
              "</style>\n",
              "<table border=\"1\" class=\"dataframe\">\n",
              "  <thead>\n",
              "    <tr style=\"text-align: right;\">\n",
              "      <th></th>\n",
              "      <th>0</th>\n",
              "      <th>1</th>\n",
              "      <th>2</th>\n",
              "      <th>3</th>\n",
              "      <th>4</th>\n",
              "      <th>5</th>\n",
              "      <th>6</th>\n",
              "      <th>7</th>\n",
              "      <th>8</th>\n",
              "    </tr>\n",
              "  </thead>\n",
              "  <tbody>\n",
              "    <tr>\n",
              "      <th>Sources</th>\n",
              "      <td>Other renewables excluding bioenergy</td>\n",
              "      <td>Bioenergy</td>\n",
              "      <td>Oil</td>\n",
              "      <td>Solar</td>\n",
              "      <td>Wind</td>\n",
              "      <td>Nuclear</td>\n",
              "      <td>Electricity from hydro (TWh)</td>\n",
              "      <td>Hydro</td>\n",
              "      <td>Coal</td>\n",
              "    </tr>\n",
              "    <tr>\n",
              "      <th>TWh</th>\n",
              "      <td>93.46</td>\n",
              "      <td>666.34</td>\n",
              "      <td>760.15</td>\n",
              "      <td>1021.22</td>\n",
              "      <td>1848.26</td>\n",
              "      <td>2738.44</td>\n",
              "      <td>4226.34</td>\n",
              "      <td>6317.6</td>\n",
              "      <td>10110.98</td>\n",
              "    </tr>\n",
              "    <tr>\n",
              "      <th>Percentage</th>\n",
              "      <td>0.34</td>\n",
              "      <td>2.4</td>\n",
              "      <td>2.74</td>\n",
              "      <td>3.68</td>\n",
              "      <td>6.65</td>\n",
              "      <td>9.86</td>\n",
              "      <td>15.21</td>\n",
              "      <td>22.74</td>\n",
              "      <td>36.39</td>\n",
              "    </tr>\n",
              "  </tbody>\n",
              "</table>\n",
              "</div>\n",
              "      <button class=\"colab-df-convert\" onclick=\"convertToInteractive('df-55033558-c580-4cbf-ad6f-14b62530e0a0')\"\n",
              "              title=\"Convert this dataframe to an interactive table.\"\n",
              "              style=\"display:none;\">\n",
              "        \n",
              "  <svg xmlns=\"http://www.w3.org/2000/svg\" height=\"24px\"viewBox=\"0 0 24 24\"\n",
              "       width=\"24px\">\n",
              "    <path d=\"M0 0h24v24H0V0z\" fill=\"none\"/>\n",
              "    <path d=\"M18.56 5.44l.94 2.06.94-2.06 2.06-.94-2.06-.94-.94-2.06-.94 2.06-2.06.94zm-11 1L8.5 8.5l.94-2.06 2.06-.94-2.06-.94L8.5 2.5l-.94 2.06-2.06.94zm10 10l.94 2.06.94-2.06 2.06-.94-2.06-.94-.94-2.06-.94 2.06-2.06.94z\"/><path d=\"M17.41 7.96l-1.37-1.37c-.4-.4-.92-.59-1.43-.59-.52 0-1.04.2-1.43.59L10.3 9.45l-7.72 7.72c-.78.78-.78 2.05 0 2.83L4 21.41c.39.39.9.59 1.41.59.51 0 1.02-.2 1.41-.59l7.78-7.78 2.81-2.81c.8-.78.8-2.07 0-2.86zM5.41 20L4 18.59l7.72-7.72 1.47 1.35L5.41 20z\"/>\n",
              "  </svg>\n",
              "      </button>\n",
              "      \n",
              "  <style>\n",
              "    .colab-df-container {\n",
              "      display:flex;\n",
              "      flex-wrap:wrap;\n",
              "      gap: 12px;\n",
              "    }\n",
              "\n",
              "    .colab-df-convert {\n",
              "      background-color: #E8F0FE;\n",
              "      border: none;\n",
              "      border-radius: 50%;\n",
              "      cursor: pointer;\n",
              "      display: none;\n",
              "      fill: #1967D2;\n",
              "      height: 32px;\n",
              "      padding: 0 0 0 0;\n",
              "      width: 32px;\n",
              "    }\n",
              "\n",
              "    .colab-df-convert:hover {\n",
              "      background-color: #E2EBFA;\n",
              "      box-shadow: 0px 1px 2px rgba(60, 64, 67, 0.3), 0px 1px 3px 1px rgba(60, 64, 67, 0.15);\n",
              "      fill: #174EA6;\n",
              "    }\n",
              "\n",
              "    [theme=dark] .colab-df-convert {\n",
              "      background-color: #3B4455;\n",
              "      fill: #D2E3FC;\n",
              "    }\n",
              "\n",
              "    [theme=dark] .colab-df-convert:hover {\n",
              "      background-color: #434B5C;\n",
              "      box-shadow: 0px 1px 3px 1px rgba(0, 0, 0, 0.15);\n",
              "      filter: drop-shadow(0px 1px 2px rgba(0, 0, 0, 0.3));\n",
              "      fill: #FFFFFF;\n",
              "    }\n",
              "  </style>\n",
              "\n",
              "      <script>\n",
              "        const buttonEl =\n",
              "          document.querySelector('#df-55033558-c580-4cbf-ad6f-14b62530e0a0 button.colab-df-convert');\n",
              "        buttonEl.style.display =\n",
              "          google.colab.kernel.accessAllowed ? 'block' : 'none';\n",
              "\n",
              "        async function convertToInteractive(key) {\n",
              "          const element = document.querySelector('#df-55033558-c580-4cbf-ad6f-14b62530e0a0');\n",
              "          const dataTable =\n",
              "            await google.colab.kernel.invokeFunction('convertToInteractive',\n",
              "                                                     [key], {});\n",
              "          if (!dataTable) return;\n",
              "\n",
              "          const docLinkHtml = 'Like what you see? Visit the ' +\n",
              "            '<a target=\"_blank\" href=https://colab.research.google.com/notebooks/data_table.ipynb>data table notebook</a>'\n",
              "            + ' to learn more about interactive tables.';\n",
              "          element.innerHTML = '';\n",
              "          dataTable['output_type'] = 'display_data';\n",
              "          await google.colab.output.renderOutput(dataTable, element);\n",
              "          const docLink = document.createElement('div');\n",
              "          docLink.innerHTML = docLinkHtml;\n",
              "          element.appendChild(docLink);\n",
              "        }\n",
              "      </script>\n",
              "    </div>\n",
              "  </div>\n",
              "  "
            ]
          },
          "metadata": {},
          "execution_count": 10
        }
      ]
    },
    {
      "cell_type": "code",
      "source": [
        "df.T.to_dict"
      ],
      "metadata": {
        "colab": {
          "base_uri": "https://localhost:8080/"
        },
        "id": "Mgm7B6Se55nV",
        "outputId": "f645036f-4d05-4f0c-8656-98bf1c3b3c23"
      },
      "execution_count": null,
      "outputs": [
        {
          "output_type": "execute_result",
          "data": {
            "text/plain": [
              "<bound method DataFrame.to_dict of                                                0          1       2        3  \\\n",
              "Sources     Other renewables excluding bioenergy  Bioenergy     Oil    Solar   \n",
              "TWh                                        93.46     666.34  760.15  1021.22   \n",
              "Percentage                                  0.34        2.4    2.74     3.68   \n",
              "\n",
              "                  4        5                             6       7         8  \n",
              "Sources        Wind  Nuclear  Electricity from hydro (TWh)   Hydro      Coal  \n",
              "TWh         1848.26  2738.44                       4226.34  6317.6  10110.98  \n",
              "Percentage     6.65     9.86                         15.21   22.74     36.39  >"
            ]
          },
          "metadata": {},
          "execution_count": 11
        }
      ]
    },
    {
      "cell_type": "code",
      "source": [
        "b.keys()"
      ],
      "metadata": {
        "colab": {
          "base_uri": "https://localhost:8080/"
        },
        "id": "EXY9IoRb55pU",
        "outputId": "c2fe83e5-b373-4142-944a-4519b1b9f60b"
      },
      "execution_count": null,
      "outputs": [
        {
          "output_type": "execute_result",
          "data": {
            "text/plain": [
              "dict_keys(['alfa', 'beta', 'gamma', 'delta', 'ninety-eight'])"
            ]
          },
          "metadata": {},
          "execution_count": 12
        }
      ]
    },
    {
      "cell_type": "code",
      "source": [
        "list ( df.T.to_dict().values() )"
      ],
      "metadata": {
        "colab": {
          "base_uri": "https://localhost:8080/"
        },
        "id": "Ha3ZOZoe6Tp8",
        "outputId": "72f88dbe-afe9-4cdf-d5fe-6e213a5c1da6"
      },
      "execution_count": null,
      "outputs": [
        {
          "output_type": "execute_result",
          "data": {
            "text/plain": [
              "[{'Sources': 'Other renewables excluding bioenergy',\n",
              "  'TWh': 93.46,\n",
              "  'Percentage': 0.34},\n",
              " {'Sources': 'Bioenergy', 'TWh': 666.34, 'Percentage': 2.4},\n",
              " {'Sources': 'Oil', 'TWh': 760.15, 'Percentage': 2.74},\n",
              " {'Sources': 'Solar', 'TWh': 1021.22, 'Percentage': 3.68},\n",
              " {'Sources': 'Wind', 'TWh': 1848.26, 'Percentage': 6.65},\n",
              " {'Sources': 'Nuclear', 'TWh': 2738.44, 'Percentage': 9.86},\n",
              " {'Sources': 'Electricity from hydro (TWh)',\n",
              "  'TWh': 4226.34,\n",
              "  'Percentage': 15.21},\n",
              " {'Sources': 'Hydro', 'TWh': 6317.6, 'Percentage': 22.74},\n",
              " {'Sources': 'Coal', 'TWh': 10110.98, 'Percentage': 36.39}]"
            ]
          },
          "metadata": {},
          "execution_count": 13
        }
      ]
    },
    {
      "cell_type": "code",
      "source": [
        "exported_values = list( df.T.to_dict().values() )"
      ],
      "metadata": {
        "id": "HQtXoYke6TtY"
      },
      "execution_count": null,
      "outputs": []
    },
    {
      "cell_type": "code",
      "source": [
        "exported_values"
      ],
      "metadata": {
        "colab": {
          "base_uri": "https://localhost:8080/"
        },
        "id": "CcSuMGxO6TxS",
        "outputId": "335612ec-a588-4370-9a8d-85c0ad10befc"
      },
      "execution_count": null,
      "outputs": [
        {
          "output_type": "execute_result",
          "data": {
            "text/plain": [
              "[{'Sources': 'Other renewables excluding bioenergy',\n",
              "  'TWh': 93.46,\n",
              "  'Percentage': 0.34},\n",
              " {'Sources': 'Bioenergy', 'TWh': 666.34, 'Percentage': 2.4},\n",
              " {'Sources': 'Oil', 'TWh': 760.15, 'Percentage': 2.74},\n",
              " {'Sources': 'Solar', 'TWh': 1021.22, 'Percentage': 3.68},\n",
              " {'Sources': 'Wind', 'TWh': 1848.26, 'Percentage': 6.65},\n",
              " {'Sources': 'Nuclear', 'TWh': 2738.44, 'Percentage': 9.86},\n",
              " {'Sources': 'Electricity from hydro (TWh)',\n",
              "  'TWh': 4226.34,\n",
              "  'Percentage': 15.21},\n",
              " {'Sources': 'Hydro', 'TWh': 6317.6, 'Percentage': 22.74},\n",
              " {'Sources': 'Coal', 'TWh': 10110.98, 'Percentage': 36.39}]"
            ]
          },
          "metadata": {},
          "execution_count": 15
        }
      ]
    },
    {
      "cell_type": "code",
      "source": [
        "import json"
      ],
      "metadata": {
        "id": "8RmPOxce6Tzh"
      },
      "execution_count": null,
      "outputs": []
    },
    {
      "cell_type": "code",
      "source": [
        "open('inlinepie.json', 'w').write( json.dumps(exported_values) )"
      ],
      "metadata": {
        "colab": {
          "base_uri": "https://localhost:8080/"
        },
        "id": "6jfYZ1HY6T18",
        "outputId": "acb03cf3-a5c8-47bc-d9b2-b0911c42e9c5"
      },
      "execution_count": null,
      "outputs": [
        {
          "output_type": "execute_result",
          "data": {
            "text/plain": [
              "576"
            ]
          },
          "metadata": {},
          "execution_count": 17
        }
      ]
    }
  ]
}